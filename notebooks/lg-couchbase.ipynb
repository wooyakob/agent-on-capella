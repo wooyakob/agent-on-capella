{
 "cells": [
  {
   "cell_type": "code",
   "execution_count": 2,
   "id": "ac138f47",
   "metadata": {},
   "outputs": [
    {
     "name": "stdout",
     "output_type": "stream",
     "text": [
      "Requirement already satisfied: langchain-couchbase in /Users/jake.wood/Documents/americas-ai-challenge/venv/lib/python3.13/site-packages (0.4.0)\n",
      "Requirement already satisfied: couchbase<5.0.0,>=4.4.0 in /Users/jake.wood/Documents/americas-ai-challenge/venv/lib/python3.13/site-packages (from langchain-couchbase) (4.4.0)\n",
      "Requirement already satisfied: langchain-core<0.4.0,>=0.3.15 in /Users/jake.wood/Documents/americas-ai-challenge/venv/lib/python3.13/site-packages (from langchain-couchbase) (0.3.72)\n",
      "Requirement already satisfied: langsmith>=0.3.45 in /Users/jake.wood/Documents/americas-ai-challenge/venv/lib/python3.13/site-packages (from langchain-core<0.4.0,>=0.3.15->langchain-couchbase) (0.4.9)\n",
      "Requirement already satisfied: tenacity!=8.4.0,<10.0.0,>=8.1.0 in /Users/jake.wood/Documents/americas-ai-challenge/venv/lib/python3.13/site-packages (from langchain-core<0.4.0,>=0.3.15->langchain-couchbase) (9.1.2)\n",
      "Requirement already satisfied: jsonpatch<2.0,>=1.33 in /Users/jake.wood/Documents/americas-ai-challenge/venv/lib/python3.13/site-packages (from langchain-core<0.4.0,>=0.3.15->langchain-couchbase) (1.33)\n",
      "Requirement already satisfied: PyYAML>=5.3 in /Users/jake.wood/Documents/americas-ai-challenge/venv/lib/python3.13/site-packages (from langchain-core<0.4.0,>=0.3.15->langchain-couchbase) (6.0.2)\n",
      "Requirement already satisfied: typing-extensions>=4.7 in /Users/jake.wood/Documents/americas-ai-challenge/venv/lib/python3.13/site-packages (from langchain-core<0.4.0,>=0.3.15->langchain-couchbase) (4.14.1)\n",
      "Requirement already satisfied: packaging>=23.2 in /Users/jake.wood/Documents/americas-ai-challenge/venv/lib/python3.13/site-packages (from langchain-core<0.4.0,>=0.3.15->langchain-couchbase) (25.0)\n",
      "Requirement already satisfied: pydantic>=2.7.4 in /Users/jake.wood/Documents/americas-ai-challenge/venv/lib/python3.13/site-packages (from langchain-core<0.4.0,>=0.3.15->langchain-couchbase) (2.11.7)\n",
      "Requirement already satisfied: jsonpointer>=1.9 in /Users/jake.wood/Documents/americas-ai-challenge/venv/lib/python3.13/site-packages (from jsonpatch<2.0,>=1.33->langchain-core<0.4.0,>=0.3.15->langchain-couchbase) (3.0.0)\n",
      "Requirement already satisfied: httpx<1,>=0.23.0 in /Users/jake.wood/Documents/americas-ai-challenge/venv/lib/python3.13/site-packages (from langsmith>=0.3.45->langchain-core<0.4.0,>=0.3.15->langchain-couchbase) (0.28.1)\n",
      "Requirement already satisfied: orjson<4.0.0,>=3.9.14 in /Users/jake.wood/Documents/americas-ai-challenge/venv/lib/python3.13/site-packages (from langsmith>=0.3.45->langchain-core<0.4.0,>=0.3.15->langchain-couchbase) (3.11.1)\n",
      "Requirement already satisfied: requests<3,>=2 in /Users/jake.wood/Documents/americas-ai-challenge/venv/lib/python3.13/site-packages (from langsmith>=0.3.45->langchain-core<0.4.0,>=0.3.15->langchain-couchbase) (2.32.4)\n",
      "Requirement already satisfied: requests-toolbelt<2.0.0,>=1.0.0 in /Users/jake.wood/Documents/americas-ai-challenge/venv/lib/python3.13/site-packages (from langsmith>=0.3.45->langchain-core<0.4.0,>=0.3.15->langchain-couchbase) (1.0.0)\n",
      "Requirement already satisfied: zstandard<0.24.0,>=0.23.0 in /Users/jake.wood/Documents/americas-ai-challenge/venv/lib/python3.13/site-packages (from langsmith>=0.3.45->langchain-core<0.4.0,>=0.3.15->langchain-couchbase) (0.23.0)\n",
      "Requirement already satisfied: anyio in /Users/jake.wood/Documents/americas-ai-challenge/venv/lib/python3.13/site-packages (from httpx<1,>=0.23.0->langsmith>=0.3.45->langchain-core<0.4.0,>=0.3.15->langchain-couchbase) (4.9.0)\n",
      "Requirement already satisfied: certifi in /Users/jake.wood/Documents/americas-ai-challenge/venv/lib/python3.13/site-packages (from httpx<1,>=0.23.0->langsmith>=0.3.45->langchain-core<0.4.0,>=0.3.15->langchain-couchbase) (2025.7.14)\n",
      "Requirement already satisfied: httpcore==1.* in /Users/jake.wood/Documents/americas-ai-challenge/venv/lib/python3.13/site-packages (from httpx<1,>=0.23.0->langsmith>=0.3.45->langchain-core<0.4.0,>=0.3.15->langchain-couchbase) (1.0.9)\n",
      "Requirement already satisfied: idna in /Users/jake.wood/Documents/americas-ai-challenge/venv/lib/python3.13/site-packages (from httpx<1,>=0.23.0->langsmith>=0.3.45->langchain-core<0.4.0,>=0.3.15->langchain-couchbase) (3.10)\n",
      "Requirement already satisfied: h11>=0.16 in /Users/jake.wood/Documents/americas-ai-challenge/venv/lib/python3.13/site-packages (from httpcore==1.*->httpx<1,>=0.23.0->langsmith>=0.3.45->langchain-core<0.4.0,>=0.3.15->langchain-couchbase) (0.16.0)\n",
      "Requirement already satisfied: annotated-types>=0.6.0 in /Users/jake.wood/Documents/americas-ai-challenge/venv/lib/python3.13/site-packages (from pydantic>=2.7.4->langchain-core<0.4.0,>=0.3.15->langchain-couchbase) (0.7.0)\n",
      "Requirement already satisfied: pydantic-core==2.33.2 in /Users/jake.wood/Documents/americas-ai-challenge/venv/lib/python3.13/site-packages (from pydantic>=2.7.4->langchain-core<0.4.0,>=0.3.15->langchain-couchbase) (2.33.2)\n",
      "Requirement already satisfied: typing-inspection>=0.4.0 in /Users/jake.wood/Documents/americas-ai-challenge/venv/lib/python3.13/site-packages (from pydantic>=2.7.4->langchain-core<0.4.0,>=0.3.15->langchain-couchbase) (0.4.1)\n",
      "Requirement already satisfied: charset_normalizer<4,>=2 in /Users/jake.wood/Documents/americas-ai-challenge/venv/lib/python3.13/site-packages (from requests<3,>=2->langsmith>=0.3.45->langchain-core<0.4.0,>=0.3.15->langchain-couchbase) (3.4.2)\n",
      "Requirement already satisfied: urllib3<3,>=1.21.1 in /Users/jake.wood/Documents/americas-ai-challenge/venv/lib/python3.13/site-packages (from requests<3,>=2->langsmith>=0.3.45->langchain-core<0.4.0,>=0.3.15->langchain-couchbase) (2.5.0)\n",
      "Requirement already satisfied: sniffio>=1.1 in /Users/jake.wood/Documents/americas-ai-challenge/venv/lib/python3.13/site-packages (from anyio->httpx<1,>=0.23.0->langsmith>=0.3.45->langchain-core<0.4.0,>=0.3.15->langchain-couchbase) (1.3.1)\n",
      "Note: you may need to restart the kernel to use updated packages.\n"
     ]
    }
   ],
   "source": [
    "pip install langchain-couchbase"
   ]
  },
  {
   "cell_type": "code",
   "execution_count": null,
   "id": "eb1abd4f",
   "metadata": {},
   "outputs": [
    {
     "data": {
      "text/plain": [
       "True"
      ]
     },
     "execution_count": 3,
     "metadata": {},
     "output_type": "execute_result"
    }
   ],
   "source": [
    "# Load in Couchbase credentials\n",
    "from dotenv import load_dotenv\n",
    "import os\n",
    "load_dotenv()"
   ]
  },
  {
   "cell_type": "code",
   "execution_count": 7,
   "id": "4afccaf5",
   "metadata": {},
   "outputs": [],
   "source": [
    "# We create a connection to the Couchbase cluster and then pass cluster object to the Vector store\n",
    "\n",
    "from datetime import timedelta\n",
    "from couchbase.auth import PasswordAuthenticator\n",
    "from couchbase.cluster import Cluster\n",
    "from couchbase.options import ClusterOptions\n",
    "\n",
    "auth = PasswordAuthenticator(os.getenv(\"CB_USERNAME\"), os.getenv(\"CB_PASSWORD\"))\n",
    "options = ClusterOptions(auth)\n",
    "cluster = Cluster(os.getenv(\"CB_HOSTNAME\"), options)\n",
    "\n",
    "# Wait until cluster is ready to use\n",
    "cluster.wait_until_ready(timedelta(seconds=5))"
   ]
  },
  {
   "cell_type": "code",
   "execution_count": 8,
   "id": "d3db430c",
   "metadata": {},
   "outputs": [],
   "source": [
    "# Set Bucket, Scope and Collection for vector search \n",
    "BUCKET = \"properties\"\n",
    "SCOPE = \"2025-listings\"\n",
    "COLLECTION = \"united-states\"\n",
    "SEARCH_INDEX = \"properties-index\""
   ]
  },
  {
   "cell_type": "code",
   "execution_count": null,
   "id": "eaaa39e3",
   "metadata": {},
   "outputs": [
    {
     "name": "stdout",
     "output_type": "stream",
     "text": [
      "Requirement already satisfied: langchain-aws in /Users/jake.wood/Documents/americas-ai-challenge/venv/lib/python3.13/site-packages (0.2.21)\n",
      "Requirement already satisfied: boto3>=1.37.24 in /Users/jake.wood/Documents/americas-ai-challenge/venv/lib/python3.13/site-packages (from langchain-aws) (1.40.0)\n",
      "Requirement already satisfied: langchain-core<0.4.0,>=0.3.53 in /Users/jake.wood/Documents/americas-ai-challenge/venv/lib/python3.13/site-packages (from langchain-aws) (0.3.72)\n",
      "Requirement already satisfied: numpy<3,>=1.26.0 in /Users/jake.wood/Documents/americas-ai-challenge/venv/lib/python3.13/site-packages (from langchain-aws) (2.3.2)\n",
      "Requirement already satisfied: pydantic<3,>=2.10.0 in /Users/jake.wood/Documents/americas-ai-challenge/venv/lib/python3.13/site-packages (from langchain-aws) (2.11.7)\n",
      "Requirement already satisfied: langsmith>=0.3.45 in /Users/jake.wood/Documents/americas-ai-challenge/venv/lib/python3.13/site-packages (from langchain-core<0.4.0,>=0.3.53->langchain-aws) (0.4.9)\n",
      "Requirement already satisfied: tenacity!=8.4.0,<10.0.0,>=8.1.0 in /Users/jake.wood/Documents/americas-ai-challenge/venv/lib/python3.13/site-packages (from langchain-core<0.4.0,>=0.3.53->langchain-aws) (9.1.2)\n",
      "Requirement already satisfied: jsonpatch<2.0,>=1.33 in /Users/jake.wood/Documents/americas-ai-challenge/venv/lib/python3.13/site-packages (from langchain-core<0.4.0,>=0.3.53->langchain-aws) (1.33)\n",
      "Requirement already satisfied: PyYAML>=5.3 in /Users/jake.wood/Documents/americas-ai-challenge/venv/lib/python3.13/site-packages (from langchain-core<0.4.0,>=0.3.53->langchain-aws) (6.0.2)\n",
      "Requirement already satisfied: typing-extensions>=4.7 in /Users/jake.wood/Documents/americas-ai-challenge/venv/lib/python3.13/site-packages (from langchain-core<0.4.0,>=0.3.53->langchain-aws) (4.14.1)\n",
      "Requirement already satisfied: packaging>=23.2 in /Users/jake.wood/Documents/americas-ai-challenge/venv/lib/python3.13/site-packages (from langchain-core<0.4.0,>=0.3.53->langchain-aws) (25.0)\n",
      "Requirement already satisfied: jsonpointer>=1.9 in /Users/jake.wood/Documents/americas-ai-challenge/venv/lib/python3.13/site-packages (from jsonpatch<2.0,>=1.33->langchain-core<0.4.0,>=0.3.53->langchain-aws) (3.0.0)\n",
      "Requirement already satisfied: annotated-types>=0.6.0 in /Users/jake.wood/Documents/americas-ai-challenge/venv/lib/python3.13/site-packages (from pydantic<3,>=2.10.0->langchain-aws) (0.7.0)\n",
      "Requirement already satisfied: pydantic-core==2.33.2 in /Users/jake.wood/Documents/americas-ai-challenge/venv/lib/python3.13/site-packages (from pydantic<3,>=2.10.0->langchain-aws) (2.33.2)\n",
      "Requirement already satisfied: typing-inspection>=0.4.0 in /Users/jake.wood/Documents/americas-ai-challenge/venv/lib/python3.13/site-packages (from pydantic<3,>=2.10.0->langchain-aws) (0.4.1)\n",
      "Requirement already satisfied: botocore<1.41.0,>=1.40.0 in /Users/jake.wood/Documents/americas-ai-challenge/venv/lib/python3.13/site-packages (from boto3>=1.37.24->langchain-aws) (1.40.0)\n",
      "Requirement already satisfied: jmespath<2.0.0,>=0.7.1 in /Users/jake.wood/Documents/americas-ai-challenge/venv/lib/python3.13/site-packages (from boto3>=1.37.24->langchain-aws) (1.0.1)\n",
      "Requirement already satisfied: s3transfer<0.14.0,>=0.13.0 in /Users/jake.wood/Documents/americas-ai-challenge/venv/lib/python3.13/site-packages (from boto3>=1.37.24->langchain-aws) (0.13.1)\n",
      "Requirement already satisfied: python-dateutil<3.0.0,>=2.1 in /Users/jake.wood/Documents/americas-ai-challenge/venv/lib/python3.13/site-packages (from botocore<1.41.0,>=1.40.0->boto3>=1.37.24->langchain-aws) (2.9.0.post0)\n",
      "Requirement already satisfied: urllib3!=2.2.0,<3,>=1.25.4 in /Users/jake.wood/Documents/americas-ai-challenge/venv/lib/python3.13/site-packages (from botocore<1.41.0,>=1.40.0->boto3>=1.37.24->langchain-aws) (2.5.0)\n",
      "Requirement already satisfied: six>=1.5 in /Users/jake.wood/Documents/americas-ai-challenge/venv/lib/python3.13/site-packages (from python-dateutil<3.0.0,>=2.1->botocore<1.41.0,>=1.40.0->boto3>=1.37.24->langchain-aws) (1.17.0)\n",
      "Requirement already satisfied: httpx<1,>=0.23.0 in /Users/jake.wood/Documents/americas-ai-challenge/venv/lib/python3.13/site-packages (from langsmith>=0.3.45->langchain-core<0.4.0,>=0.3.53->langchain-aws) (0.28.1)\n",
      "Requirement already satisfied: orjson<4.0.0,>=3.9.14 in /Users/jake.wood/Documents/americas-ai-challenge/venv/lib/python3.13/site-packages (from langsmith>=0.3.45->langchain-core<0.4.0,>=0.3.53->langchain-aws) (3.11.1)\n",
      "Requirement already satisfied: requests<3,>=2 in /Users/jake.wood/Documents/americas-ai-challenge/venv/lib/python3.13/site-packages (from langsmith>=0.3.45->langchain-core<0.4.0,>=0.3.53->langchain-aws) (2.32.4)\n",
      "Requirement already satisfied: requests-toolbelt<2.0.0,>=1.0.0 in /Users/jake.wood/Documents/americas-ai-challenge/venv/lib/python3.13/site-packages (from langsmith>=0.3.45->langchain-core<0.4.0,>=0.3.53->langchain-aws) (1.0.0)\n",
      "Requirement already satisfied: zstandard<0.24.0,>=0.23.0 in /Users/jake.wood/Documents/americas-ai-challenge/venv/lib/python3.13/site-packages (from langsmith>=0.3.45->langchain-core<0.4.0,>=0.3.53->langchain-aws) (0.23.0)\n",
      "Requirement already satisfied: anyio in /Users/jake.wood/Documents/americas-ai-challenge/venv/lib/python3.13/site-packages (from httpx<1,>=0.23.0->langsmith>=0.3.45->langchain-core<0.4.0,>=0.3.53->langchain-aws) (4.9.0)\n",
      "Requirement already satisfied: certifi in /Users/jake.wood/Documents/americas-ai-challenge/venv/lib/python3.13/site-packages (from httpx<1,>=0.23.0->langsmith>=0.3.45->langchain-core<0.4.0,>=0.3.53->langchain-aws) (2025.7.14)\n",
      "Requirement already satisfied: httpcore==1.* in /Users/jake.wood/Documents/americas-ai-challenge/venv/lib/python3.13/site-packages (from httpx<1,>=0.23.0->langsmith>=0.3.45->langchain-core<0.4.0,>=0.3.53->langchain-aws) (1.0.9)\n",
      "Requirement already satisfied: idna in /Users/jake.wood/Documents/americas-ai-challenge/venv/lib/python3.13/site-packages (from httpx<1,>=0.23.0->langsmith>=0.3.45->langchain-core<0.4.0,>=0.3.53->langchain-aws) (3.10)\n",
      "Requirement already satisfied: h11>=0.16 in /Users/jake.wood/Documents/americas-ai-challenge/venv/lib/python3.13/site-packages (from httpcore==1.*->httpx<1,>=0.23.0->langsmith>=0.3.45->langchain-core<0.4.0,>=0.3.53->langchain-aws) (0.16.0)\n",
      "Requirement already satisfied: charset_normalizer<4,>=2 in /Users/jake.wood/Documents/americas-ai-challenge/venv/lib/python3.13/site-packages (from requests<3,>=2->langsmith>=0.3.45->langchain-core<0.4.0,>=0.3.53->langchain-aws) (3.4.2)\n",
      "Requirement already satisfied: sniffio>=1.1 in /Users/jake.wood/Documents/americas-ai-challenge/venv/lib/python3.13/site-packages (from anyio->httpx<1,>=0.23.0->langsmith>=0.3.45->langchain-core<0.4.0,>=0.3.53->langchain-aws) (1.3.1)\n",
      "Note: you may need to restart the kernel to use updated packages.\n"
     ]
    }
   ],
   "source": [
    "# choose AWS for embeddings model\n",
    "pip install langchain-aws"
   ]
  },
  {
   "cell_type": "code",
   "execution_count": 16,
   "id": "08196182",
   "metadata": {},
   "outputs": [],
   "source": [
    "# create vector store object, with cluster info and search index name\n",
    "\n",
    "from langchain_aws import BedrockEmbeddings\n",
    "embeddings = BedrockEmbeddings(model_id=\"amazon.titan-embed-text-v2:0\")\n",
    "\n",
    "from langchain_couchbase.vectorstores import CouchbaseSearchVectorStore\n",
    "\n",
    "vector_store = CouchbaseSearchVectorStore(\n",
    "    cluster = cluster,\n",
    "    bucket_name = BUCKET,\n",
    "    scope_name = SCOPE,\n",
    "    collection_name = COLLECTION,\n",
    "    embedding = embeddings,\n",
    "    index_name = SEARCH_INDEX,\n",
    "    text_key = \"description\",\n",
    "    embedding_key = \"embedding\",\n",
    ")"
   ]
  },
  {
   "cell_type": "code",
   "execution_count": 17,
   "id": "36e5e986",
   "metadata": {},
   "outputs": [
    {
     "name": "stdout",
     "output_type": "stream",
     "text": [
      "[Document(id='56c1bbbc-3fb3-46ae-8c41-c6b4d0ddd7f2', metadata={'HOA_fees': '$0', 'address': '468 2nd St, Encinitas, CA 92024', 'bathrooms': 2, 'bedrooms': 3, 'date_built': 1965, 'geo.lat': 33.037, 'geo.lon': -117.292, 'house_sqft': 1550, 'listed_by': 'Maria Gonzalez DRE #04567890 760-555-0456, Beach Town Properties', 'listing_updated': 'January 11, 2025 at 10:45am', 'lot_sqft': 4800, 'name': 'Encinitas Beach Town Bungalow', 'price': '$945,000', 'url': 'https://www.zillow.com/homedetails/468-2nd-St-Encinitas-CA-92024/234567890_zpid/'}, page_content='Charming 3-bedroom beach bungalow in the heart of Encinitas. Recently updated with modern amenities while preserving original character. Private backyard with fruit trees, walking distance to Moonlight Beach and downtown shops. Perfect for the coastal lifestyle.'), Document(id='0d0f3b4b-01bb-46aa-89d5-7645a1fbe63e', metadata={'HOA_fees': '$0', 'address': '852 Tourmaline St, San Diego, CA 92109', 'bathrooms': 1, 'bedrooms': 2, 'date_built': 1954, 'geo.lat': 32.803, 'geo.lon': -117.253, 'house_sqft': 900, 'listed_by': 'Sarah Johnson DRE #01345678 858-555-0789, Coastal Realty Group', 'listing_updated': 'January 18, 2025 at 11:45am', 'lot_sqft': 5000, 'name': 'Pacific Beach Cottage', 'price': '$1,295,000', 'url': 'https://www.zillow.com/homedetails/852-Tourmaline-St-San-Diego-CA-92109/456789123_zpid/'}, page_content='Charming 2-bedroom beach cottage just blocks from the ocean. Original hardwood floors, cozy fireplace, and a large backyard perfect for entertaining. Rare find in this prime location with potential for expansion.')]\n"
     ]
    }
   ],
   "source": [
    "results = vector_store.similarity_search(\n",
    "    \"A beautiful beachside property with a nice backyard and close to good schools\",\n",
    "    k=2,\n",
    ")\n",
    "print(results)"
   ]
  },
  {
   "cell_type": "code",
   "execution_count": 21,
   "id": "701e0a6c",
   "metadata": {},
   "outputs": [
    {
     "name": "stdout",
     "output_type": "stream",
     "text": [
      "Property: Encinitas Beach Town Bungalow\n",
      "Price: $945,000\n",
      "Address: 468 2nd St, Encinitas, CA 92024\n",
      "Bedrooms: 3 | Bathrooms: 2\n",
      "House Size: 1550 sqft | Lot Size: 4800 sqft\n",
      "Description: Charming 3-bedroom beach bungalow in the heart of Encinitas. Recently updated with modern amenities while preserving original character. Private backyard with fruit trees, walking distance to Moonlight Beach and downtown shops. Perfect for the coastal lifestyle.\n",
      "Listed by: Maria Gonzalez DRE #04567890 760-555-0456, Beach Town Properties\n",
      "--------------------------------------------------------------------------------\n",
      "Property: Pacific Beach Cottage\n",
      "Price: $1,295,000\n",
      "Address: 852 Tourmaline St, San Diego, CA 92109\n",
      "Bedrooms: 2 | Bathrooms: 1\n",
      "House Size: 900 sqft | Lot Size: 5000 sqft\n",
      "Description: Charming 2-bedroom beach cottage just blocks from the ocean. Original hardwood floors, cozy fireplace, and a large backyard perfect for entertaining. Rare find in this prime location with potential for expansion.\n",
      "Listed by: Sarah Johnson DRE #01345678 858-555-0789, Coastal Realty Group\n",
      "--------------------------------------------------------------------------------\n"
     ]
    }
   ],
   "source": [
    "results = vector_store.similarity_search(\n",
    "    \"A beautiful beachside property with a nice backyard and close to good schools\",\n",
    "    k=2,\n",
    ")\n",
    "\n",
    "for i, doc in enumerate(results, 1):\n",
    "    print(f\"Property: {doc.metadata.get('name', 'N/A')}\")\n",
    "    print(f\"Price: {doc.metadata.get('price', 'N/A')}\")\n",
    "    print(f\"Address: {doc.metadata.get('address', 'N/A')}\")\n",
    "    print(f\"Bedrooms: {doc.metadata.get('bedrooms', 'N/A')} | Bathrooms: {doc.metadata.get('bathrooms', 'N/A')}\")\n",
    "    print(f\"House Size: {doc.metadata.get('house_sqft', 'N/A')} sqft | Lot Size: {doc.metadata.get('lot_sqft', 'N/A')} sqft\")\n",
    "    print(f\"Description: {doc.page_content}\")\n",
    "    print(f\"Listed by: {doc.metadata.get('listed_by', 'N/A')}\")\n",
    "    print(\"-\" * 80)"
   ]
  },
  {
   "cell_type": "code",
   "execution_count": 20,
   "id": "a5747fea",
   "metadata": {},
   "outputs": [
    {
     "name": "stdout",
     "output_type": "stream",
     "text": [
      "\n",
      "🏠 Encinitas Beach Town Bungalow - $945,000\n",
      "📍 468 2nd St, Encinitas, CA 92024\n",
      "🛏️ 3bd/2ba • 1550 sqft\n",
      "📝 Charming 3-bedroom beach bungalow in the heart of Encinitas. Recently updated with modern amenities while preserving original character. Private backyard with fruit trees, walking distance to Moonlight Beach and downtown shops. Perfect for the coastal lifestyle.\n",
      "------------------------------------------------------------\n",
      "\n",
      "🏠 Pacific Beach Cottage - $1,295,000\n",
      "📍 852 Tourmaline St, San Diego, CA 92109\n",
      "🛏️ 2bd/1ba • 900 sqft\n",
      "📝 Charming 2-bedroom beach cottage just blocks from the ocean. Original hardwood floors, cozy fireplace, and a large backyard perfect for entertaining. Rare find in this prime location with potential for expansion.\n",
      "------------------------------------------------------------\n"
     ]
    }
   ],
   "source": [
    "results = vector_store.similarity_search(\n",
    "    \"A beautiful beachside property with a nice backyard and close to good schools\",\n",
    "    k=2,\n",
    ")\n",
    "\n",
    "for i, doc in enumerate(results, 1):\n",
    "    print(f\"\\n🏠 {doc.metadata['name']} - {doc.metadata['price']}\")\n",
    "    print(f\"📍 {doc.metadata['address']}\")\n",
    "    print(f\"🛏️ {doc.metadata['bedrooms']}bd/{doc.metadata['bathrooms']}ba • {doc.metadata['house_sqft']} sqft\")\n",
    "    print(f\"📝 {doc.page_content}\")\n",
    "    print(\"-\" * 60)\n"
   ]
  },
  {
   "cell_type": "code",
   "execution_count": 30,
   "id": "7954a424",
   "metadata": {},
   "outputs": [
    {
     "name": "stdout",
     "output_type": "stream",
     "text": [
      "\n",
      "🏠 La Jolla Coastal Retreat - $875,000 (Score: 0.820)\n",
      "📍 7654 Prospect St, La Jolla, CA 92037\n",
      "🛏️ 2bd/2ba • 1350 sqft\n",
      "📝 Elegant 2-bedroom coastal retreat just minutes from La Jolla Cove. Completely renovated with designer finishes, ocean glimpses from master bedroom, and private courtyard. Perfect for those seeking a luxurious yet low-maintenance lifestyle near world-class beaches and dining.\n",
      "------------------------------------------------------------\n",
      "\n",
      "🏠 Ocean View Villa - $4,200,000 (Score: 0.510)\n",
      "📍 7890 Coast Blvd, La Jolla, CA 92037\n",
      "🛏️ 5bd/6ba • 4800 sqft\n",
      "📝 Magnificent 5-bedroom villa with breathtaking ocean views in La Jolla. Private gated entrance, infinity pool, wine cellar, and multiple outdoor entertaining areas. Recently renovated with the finest materials and fixtures.\n",
      "------------------------------------------------------------\n"
     ]
    }
   ],
   "source": [
    "# With similarity score\n",
    "results = vector_store.similarity_search_with_score(\n",
    "    \"2 bedroom coastal retreat minutes from La Jolla Cove\",\n",
    "    k=2,\n",
    ")\n",
    "\n",
    "for i, (doc, score) in enumerate(results, 1):\n",
    "    print(f\"\\n🏠 {doc.metadata['name']} - {doc.metadata['price']} (Score: {score:.3f})\")\n",
    "    print(f\"📍 {doc.metadata['address']}\")\n",
    "    print(f\"🛏️ {doc.metadata['bedrooms']}bd/{doc.metadata['bathrooms']}ba • {doc.metadata['house_sqft']} sqft\")\n",
    "    print(f\"📝 {doc.page_content}\")\n",
    "    print(\"-\" * 60)"
   ]
  },
  {
   "cell_type": "code",
   "execution_count": 28,
   "id": "95ced66b",
   "metadata": {},
   "outputs": [
    {
     "name": "stdout",
     "output_type": "stream",
     "text": [
      "Added 2 properties with auto-generated embeddings\n"
     ]
    }
   ],
   "source": [
    "# Load New Properties into Vector Store\n",
    "from uuid import uuid4\n",
    "from langchain_core.documents import Document\n",
    "\n",
    "property_one = Document(\n",
    "    page_content=\"Stunning waterfront condo in Mission Bay with panoramic views. Modern 2-bedroom unit with floor-to-ceiling windows, granite countertops, and private balcony. Building amenities include pool, gym, and concierge. Walking distance to beaches and restaurants.\",\n",
    "    metadata={\n",
    "        \"name\": \"Mission Bay Waterfront Condo\",\n",
    "        \"price\": \"$1,150,000\",\n",
    "        \"bedrooms\": 2,\n",
    "        \"bathrooms\": 2,\n",
    "        \"house_sqft\": 1400,\n",
    "        \"lot_sqft\": 0,\n",
    "        \"HOA_fees\": \"$750\",\n",
    "        \"date_built\": 2021,\n",
    "        \"address\": \"1234 Bay View Dr, San Diego, CA 92109\",\n",
    "        \"listed_by\": \"John Smith DRE #12345678 858-555-0123, Bay Properties\",\n",
    "        \"geo.lat\": 32.790,\n",
    "        \"geo.lon\": -117.235\n",
    "    }\n",
    ")\n",
    "\n",
    "property_two = Document(\n",
    "    page_content=\"Charming Spanish-style home in Kensington with original tile work and arched doorways. 3-bedroom house featuring updated kitchen, hardwood floors, and mature landscaping. Quiet residential street with easy access to downtown.\",\n",
    "    metadata={\n",
    "        \"name\": \"Kensington Spanish Revival\",\n",
    "        \"price\": \"$875,000\",\n",
    "        \"bedrooms\": 3,\n",
    "        \"bathrooms\": 2,\n",
    "        \"house_sqft\": 1650,\n",
    "        \"lot_sqft\": 5200,\n",
    "        \"HOA_fees\": \"$0\",\n",
    "        \"date_built\": 1935,\n",
    "        \"address\": \"5678 Adams Ave, San Diego, CA 92116\",\n",
    "        \"listed_by\": \"Maria Lopez DRE #87654321 619-555-0456, Historic Homes Realty\",\n",
    "        \"geo.lat\": 32.763,\n",
    "        \"geo.lon\": -117.115\n",
    "    }\n",
    ")\n",
    "\n",
    "documents = [property_one, property_two]\n",
    "\n",
    "uuids = [str(uuid4()) for _ in range(len(documents))]\n",
    "\n",
    "vector_store.add_documents(documents=documents, ids=uuids)\n",
    "print(f\"Added {len(documents)} properties with auto-generated embeddings\")\n",
    "\n",
    "# delete from vector store\n",
    "# vector_store.delete(ids=[uuids[-1]])"
   ]
  },
  {
   "cell_type": "code",
   "execution_count": 31,
   "id": "1fa95e8a",
   "metadata": {},
   "outputs": [
    {
     "name": "stdout",
     "output_type": "stream",
     "text": [
      "\n",
      "🏠 Kensington Spanish Revival - $875,000 (Score: 0.763)\n",
      "📍 5678 Adams Ave, San Diego, CA 92116\n",
      "🛏️ 3bd/2ba • 1650 sqft\n",
      "📝 Charming Spanish-style home in Kensington with original tile work and arched doorways. 3-bedroom house featuring updated kitchen, hardwood floors, and mature landscaping. Quiet residential street with easy access to downtown.\n",
      "------------------------------------------------------------\n",
      "\n",
      "🏠 Kitsilano Heritage Character Home - $1,295,000 (Score: 0.284)\n",
      "📍 2234 W 4th Ave, Vancouver, BC V6K 1N6\n",
      "🛏️ 4bd/3ba • 2450 sqft\n",
      "📝 Charming 4-bedroom heritage character home in sought-after Kitsilano. Original hardwood floors, leaded glass windows, and period details throughout. Large kitchen with eating area, separate dining room, and beautiful garden. Walking distance to beaches and 4th Avenue shopping.\n",
      "------------------------------------------------------------\n",
      "\n",
      "🏠 Mission Bay Waterfront Condo - $1,150,000 (Score: 0.899)\n",
      "📍 1234 Bay View Dr, San Diego, CA 92109\n",
      "🛏️ 2bd/2ba • 1400 sqft\n",
      "📝 Stunning waterfront condo in Mission Bay with panoramic views. Modern 2-bedroom unit with floor-to-ceiling windows, granite countertops, and private balcony. Building amenities include pool, gym, and concierge. Walking distance to beaches and restaurants.\n",
      "------------------------------------------------------------\n",
      "\n",
      "🏠 Sunset Vista Townhome - $825,000 (Score: 0.481)\n",
      "📍 4820 Sunset Ridge Dr, San Diego, CA 92108\n",
      "🛏️ 3bd/2.5ba • 1650 sqft\n",
      "📝 Modern 3-bedroom townhome in the heart of Mission Valley with stunning sunset views. Open concept living with vaulted ceilings and a private patio. Walking distance to trolley stations, shopping, and dining. Perfect for first-time buyers or investors.\n",
      "------------------------------------------------------------\n"
     ]
    }
   ],
   "source": [
    "# Test newly added properties\n",
    "\n",
    "# With similarity score\n",
    "results = vector_store.similarity_search_with_score(\n",
    "    \"Spanish-style home in Kensington\",\n",
    "    k=2,\n",
    ")\n",
    "\n",
    "for i, (doc, score) in enumerate(results, 1):\n",
    "    print(f\"\\n🏠 {doc.metadata['name']} - {doc.metadata['price']} (Score: {score:.3f})\")\n",
    "    print(f\"📍 {doc.metadata['address']}\")\n",
    "    print(f\"🛏️ {doc.metadata['bedrooms']}bd/{doc.metadata['bathrooms']}ba • {doc.metadata['house_sqft']} sqft\")\n",
    "    print(f\"📝 {doc.page_content}\")\n",
    "    print(\"-\" * 60)\n",
    "\n",
    "results = vector_store.similarity_search_with_score(\n",
    "    \"waterfront condo in Mission Bay with panoramic views\",\n",
    "    k=2,\n",
    ")\n",
    "\n",
    "for i, (doc, score) in enumerate(results, 1):\n",
    "    print(f\"\\n🏠 {doc.metadata['name']} - {doc.metadata['price']} (Score: {score:.3f})\")\n",
    "    print(f\"📍 {doc.metadata['address']}\")\n",
    "    print(f\"🛏️ {doc.metadata['bedrooms']}bd/{doc.metadata['bathrooms']}ba • {doc.metadata['house_sqft']} sqft\")\n",
    "    print(f\"📝 {doc.page_content}\")\n",
    "    print(\"-\" * 60)"
   ]
  },
  {
   "cell_type": "code",
   "execution_count": null,
   "id": "cc488372",
   "metadata": {},
   "outputs": [],
   "source": []
  }
 ],
 "metadata": {
  "kernelspec": {
   "display_name": "venv",
   "language": "python",
   "name": "python3"
  },
  "language_info": {
   "codemirror_mode": {
    "name": "ipython",
    "version": 3
   },
   "file_extension": ".py",
   "mimetype": "text/x-python",
   "name": "python",
   "nbconvert_exporter": "python",
   "pygments_lexer": "ipython3",
   "version": "3.13.3"
  }
 },
 "nbformat": 4,
 "nbformat_minor": 5
}
