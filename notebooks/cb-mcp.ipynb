{
 "cells": [
  {
   "cell_type": "code",
   "execution_count": null,
   "id": "dc94f91e",
   "metadata": {},
   "outputs": [],
   "source": [
    "# https://github.com/Couchbase-Ecosystem/mcp-server-couchbase\n",
    "# allow LLMs to directly interact with Couchbase clusters\n",
    "\n"
   ]
  }
 ],
 "metadata": {
  "language_info": {
   "name": "python"
  }
 },
 "nbformat": 4,
 "nbformat_minor": 5
}
